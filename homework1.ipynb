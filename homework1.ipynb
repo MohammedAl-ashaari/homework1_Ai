{
 "cells": [
  {
   "cell_type": "code",
   "execution_count": 4,
   "metadata": {},
   "outputs": [
    {
     "name": "stdout",
     "output_type": "stream",
     "text": [
      "Accuracy: 0.9122807017543859\n",
      "Confusion Matrix:\n",
      " [[104   4]\n",
      " [ 11  52]]\n"
     ]
    }
   ],
   "source": [
    "# ==========================================\n",
    "# 1) استيراد المكتبات وقراءة البيانات\n",
    "# ==========================================\n",
    "\n",
    "import pandas as pd\n",
    "from sklearn.model_selection import train_test_split\n",
    "from sklearn.tree import DecisionTreeClassifier\n",
    "from sklearn.metrics import accuracy_score, confusion_matrix\n",
    "\n",
    "# تحميل ملف البيانات\n",
    "data = pd.read_csv(\"brca.csv\")\n",
    "\n",
    "# ==========================================\n",
    "# 2) تنظيف أسماء الأعمدة\n",
    "# ==========================================\n",
    "# إزالة البادئة \"x.\" إن وجدت\n",
    "data.columns = data.columns.str.replace(\"x.\", \"\", regex=False)\n",
    "\n",
    "# ==========================================\n",
    "# 3) تجهيز العمود الهدف (y)\n",
    "#    M = خبيث (1) / B = حميد (0)\n",
    "# ==========================================\n",
    "data[\"y\"] = data[\"y\"].map({\"M\": 1, \"B\": 0})\n",
    "\n",
    "# ==========================================\n",
    "# 4) اختيار الخصائص (Features)\n",
    "# ==========================================\n",
    "features = [\n",
    "    \"radius_mean\", \"texture_mean\", \"perimeter_mean\",\n",
    "    \"area_mean\", \"smoothness_mean\"\n",
    "]\n",
    "\n",
    "X = data[features]   # المدخلات\n",
    "y = data[\"y\"]        # الهدف\n",
    "\n",
    "# ==========================================\n",
    "# 5) تقسيم البيانات (70% تدريب / 30% اختبار)\n",
    "# ==========================================\n",
    "train_X, test_X, train_y, test_y = train_test_split(\n",
    "    X, y, test_size=0.30, random_state=42\n",
    ")\n",
    "\n",
    "# ==========================================\n",
    "# 6) إنشاء نموذج Decision Tree وتدريبه\n",
    "# ==========================================\n",
    "model = DecisionTreeClassifier(random_state=42)\n",
    "model.fit(train_X, train_y)\n",
    "\n",
    "# ==========================================\n",
    "# 7) إجراء التنبؤات على مجموعة الاختبار\n",
    "# ==========================================\n",
    "predictions = model.predict(test_X)\n",
    "\n",
    "# ==========================================\n",
    "# 8) تقييم أداء النموذج\n",
    "# ==========================================\n",
    "accuracy  = accuracy_score(test_y, predictions)\n",
    "conf_mat  = confusion_matrix(test_y, predictions)\n",
    "\n",
    "print(\"Accuracy:\", accuracy)\n",
    "print(\"Confusion Matrix:\\n\", conf_mat)\n"
   ]
  },
  {
   "cell_type": "code",
   "execution_count": null,
   "metadata": {},
   "outputs": [],
   "source": []
  }
 ],
 "metadata": {
  "kernelspec": {
   "display_name": "Python 3",
   "language": "python",
   "name": "python3"
  },
  "language_info": {
   "codemirror_mode": {
    "name": "ipython",
    "version": 3
   },
   "file_extension": ".py",
   "mimetype": "text/x-python",
   "name": "python",
   "nbconvert_exporter": "python",
   "pygments_lexer": "ipython3",
   "version": "3.8.5"
  }
 },
 "nbformat": 4,
 "nbformat_minor": 4
}
